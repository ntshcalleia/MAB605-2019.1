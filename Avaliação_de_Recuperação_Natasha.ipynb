{
  "nbformat": 4,
  "nbformat_minor": 0,
  "metadata": {
    "colab": {
      "name": "Avaliação de Recuperação - Natasha",
      "version": "0.3.2",
      "provenance": [],
      "collapsed_sections": [],
      "include_colab_link": true
    },
    "kernelspec": {
      "name": "python3",
      "display_name": "Python 3"
    }
  },
  "cells": [
    {
      "cell_type": "markdown",
      "metadata": {
        "id": "view-in-github",
        "colab_type": "text"
      },
      "source": [
        "<a href=\"https://colab.research.google.com/github/ntshrocha/MAB605-2019.1/blob/master/Avalia%C3%A7%C3%A3o_de_Recupera%C3%A7%C3%A3o_Natasha.ipynb\" target=\"_parent\"><img src=\"https://colab.research.google.com/assets/colab-badge.svg\" alt=\"Open In Colab\"/></a>"
      ]
    },
    {
      "cell_type": "markdown",
      "metadata": {
        "id": "X5Th-vL2O9Ax",
        "colab_type": "text"
      },
      "source": [
        "# Código dos exercícios anteriores"
      ]
    },
    {
      "cell_type": "code",
      "metadata": {
        "id": "ASwpkl46G3yG",
        "colab_type": "code",
        "colab": {}
      },
      "source": [
        "import re # expressões regulares\n",
        "import functools # programação funcional\n",
        "import numpy as np\n",
        "import pandas as pd\n",
        "import operator\n",
        "\n",
        "# UTILS ########################################################################\n",
        "\n",
        "def tokenize(string, separators, stopwords):\n",
        "  regex = re.compile(f'[{\"\".join(separators)}]+')\n",
        "  tokens = re.split(regex, string) # split on separators\n",
        "  tokens = [x.lower() for x in tokens] # lowercase token\n",
        "  tokens = filter(lambda x: x not in stopwords, tokens) # remove stopwords\n",
        "  return list(filter(None, tokens)) # remove empty tokens\n",
        "\n",
        "def tokenizer(documents, separators, stopwords):\n",
        "  return [tokenize(doc, separators, stopwords) for doc in documents]\n",
        "\n",
        "def incidence_matrix(tokenized_docs, alphabet = None):\n",
        "  # Transforma array de arrays em um único array:\n",
        "  flatten = lambda l: [item for sublist in l for item in sublist]\n",
        "\n",
        "  if alphabet is None:\n",
        "    # Filtra palavras únicas e retorna alfabeto com todas as palavras nos docs:\n",
        "    alphabet = functools.reduce(lambda l, x: l if x in l else l+[x], flatten(tokenized_docs), [])\n",
        "\n",
        "  IM = pd.DataFrame(columns=alphabet)\n",
        "  # Para cada documento:\n",
        "  for i, doc in enumerate(tokenized_docs):\n",
        "    doc_name = f'{i+1}'\n",
        "    # Cria linha para adicionar no dataframe\n",
        "    row = pd.Series(np.zeros(len(alphabet)), index=alphabet, name=doc_name, dtype=int)\n",
        "    # Para cada palavra do documento:\n",
        "    for word in doc:\n",
        "      row[word] += 1\n",
        "    IM = IM.append(row)\n",
        "  return IM\n",
        "\n",
        "def sort(rank):\n",
        "  return sorted(rank.items(), key=lambda kv: -kv[1])"
      ],
      "execution_count": 0,
      "outputs": []
    },
    {
      "cell_type": "code",
      "metadata": {
        "id": "P6EzHanLKHja",
        "colab_type": "code",
        "colab": {}
      },
      "source": [
        "# MODELO VETORIAL ##############################################################\n",
        "\n",
        "def get_tf(matrix):\n",
        "  TF = matrix.copy().applymap(lambda f: 0 if f == 0 else 1 + np.log2(f))\n",
        "  return TF\n",
        "\n",
        "def get_idf(matrix):\n",
        "  N = matrix.shape[0] # Número total de documentos\n",
        "  IDF = matrix.astype(bool).sum() # Conta valores não nulos por coluna\n",
        "  return IDF.apply(lambda n: np.log2(N/n))\n",
        "\n",
        "def get_tf_idf(TF, IDF):\n",
        "  TF = TF.where(TF != 0) # Zeros transformados em NaN para não atrapalhar contas\n",
        "  w = TF.mul(IDF)\n",
        "  return w.fillna(0) # Transforma NaN de volta em 0\n",
        "\n",
        "def vetorial(docs, stopwords, query, seps):\n",
        "  # Pré-processamento dos docs e query:\n",
        "  tokens_query = tokenize(query, seps, stopwords)\n",
        "  tokens_docs = tokenizer(docs, seps, stopwords)\n",
        "\n",
        "  # Criação da matriz de incidência com frequência:\n",
        "  IM_docs = incidence_matrix(tokens_docs)\n",
        "  IM_query = incidence_matrix([tokens_query], alphabet = IM_docs.columns)\n",
        "  \n",
        "  # Frequência total de ocorrência dos termos:\n",
        "  TF = get_tf(IM_docs)\n",
        "  TF_query = get_tf(IM_query)\n",
        "  \n",
        "  # Frequência de documento:\n",
        "  IDF = get_idf(IM_docs)\n",
        "  \n",
        "  # Ponderação TF-IDF:\n",
        "  w = get_tf_idf(TF, IDF)\n",
        "  w_query = get_tf_idf(TF_query, IDF)\n",
        "  \n",
        "  rank = {}\n",
        "  \n",
        "  def sim(w1, w2):\n",
        "    return w1.dot(w2)/(np.linalg.norm(w1)*np.linalg.norm(w2))\n",
        "  \n",
        "  for name, vector in w.iterrows():\n",
        "    rank[name] = sim(vector, w_query.T)[0]\n",
        "  \n",
        "  return sort(rank)"
      ],
      "execution_count": 0,
      "outputs": []
    },
    {
      "cell_type": "code",
      "metadata": {
        "id": "pw4GZZfHLrIe",
        "colab_type": "code",
        "colab": {}
      },
      "source": [
        "# MODELO PROBABILÍSTICO ########################################################\n",
        "\n",
        "def avg_doclen(docs):\n",
        "  N = len(docs) # número total de documentos\n",
        "  return functools.reduce(lambda avg_len, doc: avg_len + len(doc)/N, docs, 0)\n",
        "\n",
        "def BM25(docs, stopwords, query, seps, K1=1, b=0.75):\n",
        "  # Pré-processamento dos docs e query:\n",
        "  tokens_query = tokenize(query, seps, stopwords)\n",
        "  tokens_docs = tokenizer(docs, seps, stopwords)\n",
        "\n",
        "  # Criação da matriz de incidência com frequência:\n",
        "  IM_docs = incidence_matrix(tokens_docs)\n",
        "  IM_query = incidence_matrix([tokens_query], alphabet = IM_docs.columns)\n",
        "  \n",
        "  # Dados sobre documentos\n",
        "  avg_len = avg_doclen(tokens_docs)\n",
        "  N = len(docs)\n",
        "  n = IM_docs.astype(bool).sum() # Conta a quantidade de valores não nulos por coluna\n",
        "  \n",
        "  # Construção do Beta\n",
        "  B = (K1 + 1)*IM_docs\n",
        "  \n",
        "  for i, doc in enumerate(tokens_docs):\n",
        "    divisor = K1 * (1 - b + b*(len(doc)/avg_len)) + IM_docs.iloc[i]\n",
        "    B.iloc[i] = B.iloc[i]/divisor\n",
        "  \n",
        "  rank = {}\n",
        "  \n",
        "  for name, row in B.iterrows():\n",
        "    rank[name] = 0\n",
        "    sim = row * np.log((N - n + 0.5)/(n + 0.5))\n",
        "    for word in tokens_query:\n",
        "      rank[name] += sim[word]\n",
        "  \n",
        "  return sort(rank)"
      ],
      "execution_count": 0,
      "outputs": []
    },
    {
      "cell_type": "markdown",
      "metadata": {
        "id": "VgPUMHeeNNUb",
        "colab_type": "text"
      },
      "source": [
        "## Exercício 7 - Avaliação de Recuperação de Informação"
      ]
    },
    {
      "cell_type": "code",
      "metadata": {
        "id": "P7P-9vrtF162",
        "colab_type": "code",
        "colab": {}
      },
      "source": [
        "# DADOS DO PROBLEMA ############################################################\n",
        "\n",
        "documentos = ['O peã e o caval são pec de xadrez. O caval é o melhor do jog.', 'A jog envolv a torr, o peã e o rei.', 'O peã lac o boi', 'Caval de rodei!', 'Polic o jog no xadrez.']\n",
        "\n",
        "stopwords = ['a', 'o', 'e', 'é', 'de', 'do', 'no', 'são']\n",
        "\n",
        "consulta = 'xadrez peã caval torr'\n",
        "\n",
        "separadores = [' ',',','.','!','?']\n",
        "\n",
        "R = [1, 2] # identificador dos documentos relevantes para a consulta q"
      ],
      "execution_count": 0,
      "outputs": []
    },
    {
      "cell_type": "code",
      "metadata": {
        "id": "l4eCwfwSMYf7",
        "colab_type": "code",
        "outputId": "c0ab5444-c136-41c6-e17a-6da812d1b7ee",
        "colab": {
          "base_uri": "https://localhost:8080/",
          "height": 71
        }
      },
      "source": [
        "# RESULTADOS OBTIDOS ###########################################################\n",
        "\n",
        "resultado_vetorial = vetorial(documentos, stopwords, consulta, separadores)\n",
        "resultado_bm25 = BM25(documentos, stopwords, consulta, separadores)\n",
        "\n",
        "print(resultado_vetorial)\n",
        "print(resultado_bm25)"
      ],
      "execution_count": 0,
      "outputs": [
        {
          "output_type": "stream",
          "text": [
            "[('2', 0.4651729931620071), ('1', 0.415053375730601), ('4', 0.21298960013595078), ('5', 0.20532236528436032), ('3', 0.052555274134206874)]\n",
            "[('2', 0.6968137618714486), ('4', 0.41411967584149284), ('1', 0.37779338848697586), ('5', 0.37127970937513144), ('3', -0.37127970937513144)]\n"
          ],
          "name": "stdout"
        }
      ]
    },
    {
      "cell_type": "code",
      "metadata": {
        "id": "sVIfegahFDt6",
        "colab_type": "code",
        "outputId": "17d20ea9-6b28-4380-8a5f-10f37a8fb927",
        "colab": {
          "base_uri": "https://localhost:8080/",
          "height": 136
        }
      },
      "source": [
        "# REVOCAÇÃO E PRECISÃO, CONSIDERANDO TODOS OS DOCUMENTOS RECUPERADOS ###########\n",
        "\n",
        "def recall(resultado, relevantes):\n",
        "  if (type(resultado[0]) == tuple):\n",
        "    resultado = [int(x[0]) for x in resultado if x[1] >= 0]\n",
        "  R_recuperados = [x for x in resultado if x in relevantes]\n",
        "  return len(R_recuperados)/len(relevantes)\n",
        "\n",
        "def precision(resultado, relevantes):\n",
        "  if (type(resultado[0]) == tuple):\n",
        "    resultado = [int(x[0]) for x in resultado if x[1] >= 0]\n",
        "  R_recuperados = [x for x in resultado if x in relevantes]\n",
        "  return len(R_recuperados)/len(resultado)\n",
        "\n",
        "print(\"\\033[1mModelo Vetorial:\\033[0m\")\n",
        "print(f'Revocação: {recall(resultado_vetorial, R)}')\n",
        "print(f'Precisão: {precision(resultado_vetorial, R)}\\n')\n",
        "\n",
        "print(\"\\033[1mBM25:\\033[0m\")\n",
        "print(f'Revocação: {recall(resultado_bm25, R)}')\n",
        "print(f'Precisão: {precision(resultado_bm25, R)}')"
      ],
      "execution_count": 0,
      "outputs": [
        {
          "output_type": "stream",
          "text": [
            "\u001b[1mModelo Vetorial:\u001b[0m\n",
            "Revocação: 1.0\n",
            "Precisão: 0.4\n",
            "\n",
            "\u001b[1mBM25:\u001b[0m\n",
            "Revocação: 1.0\n",
            "Precisão: 0.5\n"
          ],
          "name": "stdout"
        }
      ]
    },
    {
      "cell_type": "code",
      "metadata": {
        "id": "8OFfUNoretjQ",
        "colab_type": "code",
        "outputId": "c70ab6a0-55a0-4f0d-b8ad-2543e82806c7",
        "colab": {
          "base_uri": "https://localhost:8080/",
          "height": 170
        }
      },
      "source": [
        "# REVOCAÇÃO E PRECISÃO A CADA RELEVANTE RECUPERADO #############################\n",
        "\n",
        "def make_recall_vs_precision_table(resultado, relevantes):\n",
        "  resultado = [int(x[0]) for x in resultado if x[1] >= 0]\n",
        "  table = []\n",
        "  m = 0\n",
        "  for doc in resultado:\n",
        "    if doc in relevantes:\n",
        "      rank = resultado.index(doc)\n",
        "      m += 1\n",
        "      table.append(recall(resultado[:rank+1], relevantes))\n",
        "      table.append(precision(resultado[:rank+1], relevantes))\n",
        "  \n",
        "  table = np.reshape(table, (m,2))\n",
        "  \n",
        "  return pd.DataFrame(table, columns=[\"Revocação\", \"Precisão\"])\n",
        "\n",
        "table_vetorial = make_recall_vs_precision_table(resultado_vetorial, R)\n",
        "table_bm25 = make_recall_vs_precision_table(resultado_bm25, R)\n",
        "\n",
        "print(\"\\033[1mModelo Vetorial:\\033[0m\")\n",
        "print(table_vetorial.to_string(index=False))\n",
        "\n",
        "print(\"\\n\\033[1mBM25:\\033[0m\")\n",
        "print(table_bm25.to_string(index=False))"
      ],
      "execution_count": 0,
      "outputs": [
        {
          "output_type": "stream",
          "text": [
            "\u001b[1mModelo Vetorial:\u001b[0m\n",
            " Revocação  Precisão\n",
            "       0.5       1.0\n",
            "       1.0       1.0\n",
            "\n",
            "\u001b[1mBM25:\u001b[0m\n",
            " Revocação  Precisão\n",
            "       0.5  1.000000\n",
            "       1.0  0.666667\n"
          ],
          "name": "stdout"
        }
      ]
    },
    {
      "cell_type": "code",
      "metadata": {
        "id": "G8y5h_6ve1cd",
        "colab_type": "code",
        "outputId": "801bc472-d233-47df-e6c6-ab44ac4e75cb",
        "colab": {
          "base_uri": "https://localhost:8080/",
          "height": 310
        }
      },
      "source": [
        "# PRECISÃO INTERPOLADA PARA CADA UM DOS 11 NÍVEIS PADRÃO DE REVOCAÇÃO ##########\n",
        "\n",
        "def precisao_interpolada(resultado, relevantes):\n",
        "  table1 = make_recall_vs_precision_table(resultado, relevantes)\n",
        "  \n",
        "  table2 = pd.DataFrame([[i*0.1, 0] for i in range(0,11)], columns=['Revocação', 'Precisão'])\n",
        "  \n",
        "  for nivel in table1.items():\n",
        "    revocacao = nivel[1][0]\n",
        "    precisao = nivel[1][1]\n",
        "    \n",
        "    # Atualiza todos os menores\n",
        "    i = 0\n",
        "    while (i * 0.1) <= revocacao:\n",
        "      atual = table2.loc[i, 'Precisão']\n",
        "      if precisao > atual:\n",
        "        table2.loc[i, 'Precisão'] = precisao\n",
        "      i += 1\n",
        "  \n",
        "  return table2\n",
        "\n",
        "plt_vetorial = (precisao_interpolada(resultado_vetorial, R) * 100).plot(kind='line', x=\"Revocação\", y=\"Precisão\", label=\"Vetorial\")\n",
        "(precisao_interpolada(resultado_bm25, R) * 100).plot(kind='line', x=\"Revocação\", y=\"Precisão\", ax=plt_vetorial, label=\"BM25\", title=\"\\nPrecisão Interpolada\");"
      ],
      "execution_count": 0,
      "outputs": [
        {
          "output_type": "display_data",
          "data": {
            "image/png": "[encoded data removed]",
            "text/plain": [
              "<Figure size 432x288 with 1 Axes>"
            ]
          },
          "metadata": {
            "tags": []
          }
        }
      ]
    },
    {
      "cell_type": "code",
      "metadata": {
        "id": "g4iaCSi6edZX",
        "colab_type": "code",
        "outputId": "9b312fa9-e8d2-43bb-92ef-e813b6fe3d51",
        "colab": {
          "base_uri": "https://localhost:8080/",
          "height": 102
        }
      },
      "source": [
        "# MEDIDA F1, CONSIDERANDO TODOS OS DOCUMENTOS RECUPERADOS ######################\n",
        "\n",
        "def F(resultado, relevantes, beta = 1):\n",
        "  resultado = [int(x[0]) for x in resultado if x[1] >= 0]\n",
        "  P = []\n",
        "  r = []\n",
        "  for doc in resultado:\n",
        "    rank = resultado.index(doc)\n",
        "    P.append(recall(resultado[:rank+1], relevantes))\n",
        "    r.append(precision(resultado[:rank+1], relevantes))\n",
        "  \n",
        "  P = np.array(P)\n",
        "  r = np.array(r)\n",
        "  \n",
        "  return ((1 + beta**2) * P * r)/((beta**2 * P) + r)\n",
        "\n",
        "print(\"\\033[1mModelo Vetorial:\\033[0m\")\n",
        "print(f'F1 = {F(resultado_vetorial, R, 1)}')\n",
        "\n",
        "print(\"\\n\\033[1mBM25:\\033[0m\")\n",
        "print(f'F1 = {F(resultado_bm25, R, 1)}')"
      ],
      "execution_count": 0,
      "outputs": [
        {
          "output_type": "stream",
          "text": [
            "\u001b[1mModelo Vetorial:\u001b[0m\n",
            "F1 = [0.66666667 1.         0.8        0.66666667 0.57142857]\n",
            "\n",
            "\u001b[1mBM25:\u001b[0m\n",
            "F1 = [0.66666667 0.5        0.8        0.66666667]\n"
          ],
          "name": "stdout"
        }
      ]
    },
    {
      "cell_type": "code",
      "metadata": {
        "id": "S8EHaZKZe8gl",
        "colab_type": "code",
        "outputId": "965d5451-1db6-408b-b655-6e0761c5f4b8",
        "colab": {
          "base_uri": "https://localhost:8080/",
          "height": 102
        }
      },
      "source": [
        "# PRECISÃO MÉDIA PARA A CONSULTA (MAPi) ########################################\n",
        "\n",
        "def MAP(resultado, relevantes):\n",
        "  P = make_recall_vs_precision_table(resultado, relevantes)['Precisão']\n",
        "  return P.mean()\n",
        "\n",
        "print(\"\\033[1mModelo Vetorial:\\033[0m\")\n",
        "print(f'MAP = {MAP(resultado_vetorial, R)}')\n",
        "\n",
        "print(\"\\n\\033[1mBM25:\\033[0m\")\n",
        "print(f'MAP = {MAP(resultado_bm25, R)}')"
      ],
      "execution_count": 0,
      "outputs": [
        {
          "output_type": "stream",
          "text": [
            "\u001b[1mModelo Vetorial:\u001b[0m\n",
            "MAP = 1.0\n",
            "\n",
            "\u001b[1mBM25:\u001b[0m\n",
            "MAP = 0.8333333333333333\n"
          ],
          "name": "stdout"
        }
      ]
    }
  ]
}