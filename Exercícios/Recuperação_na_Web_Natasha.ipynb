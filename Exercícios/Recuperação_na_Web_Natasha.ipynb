{
  "nbformat": 4,
  "nbformat_minor": 0,
  "metadata": {
    "colab": {
      "name": "Recuperação na Web - Natasha",
      "version": "0.3.2",
      "provenance": [],
      "collapsed_sections": []
    },
    "kernelspec": {
      "name": "python3",
      "display_name": "Python 3"
    }
  },
  "cells": [
    {
      "cell_type": "markdown",
      "metadata": {
        "id": "EGvhXFaNl45Y",
        "colab_type": "text"
      },
      "source": [
        "## Exercício 9 - Implementação do PageRank"
      ]
    },
    {
      "cell_type": "code",
      "metadata": {
        "id": "0W-np-R4l330",
        "colab_type": "code",
        "outputId": "2255177c-f3ac-4283-d4d2-3705b7b40ab8",
        "colab": {
          "base_uri": "https://localhost:8080/",
          "height": 34
        }
      },
      "source": [
        "def get_pagerank(graph, beta=0.8, threshold=10e-5):\n",
        "  T = len(graph)\n",
        "  \n",
        "  PR = dict.fromkeys(graph, 1/T) # initialize PR with weight 1/T\n",
        "  oldPR = dict.copy(PR)\n",
        "  \n",
        "  converged = dict.fromkeys(graph, False) # tells if PR for a given page has converged\n",
        "  \n",
        "  while(any(not value for value in converged.values())):\n",
        "    for page in PR:\n",
        "      oldPR[page] = PR[page]\n",
        "      PR[page] = (1 - beta)/T\n",
        "      \n",
        "      for node in graph:\n",
        "        if page in graph[node]:\n",
        "          PR[page] += beta*PR[node]/len(graph[node])\n",
        "\n",
        "      converged[page] = abs(PR_old[page] - PR[page]) < threshold\n",
        "    \n",
        "  return {k: '%.4f'%(v) for k, v in PR.items()} # truncate PR to four decimal places\n",
        "\n",
        "# EXEMPLO ######################################################################\n",
        "\n",
        "G = {\"A\": [\"B\", \"C\"],\n",
        "     \"B\": [\"C\"],\n",
        "     \"C\": [\"A\"],\n",
        "     \"D\": [\"C\"],\n",
        "    }\n",
        "\n",
        "get_pagerank(G)"
      ],
      "execution_count": 0,
      "outputs": [
        {
          "output_type": "execute_result",
          "data": {
            "text/plain": [
              "{'A': '0.3633', 'B': '0.1953', 'C': '0.3916', 'D': '0.0500'}"
            ]
          },
          "metadata": {
            "tags": []
          },
          "execution_count": 42
        }
      ]
    }
  ]
}