{
  "nbformat": 4,
  "nbformat_minor": 0,
  "metadata": {
    "colab": {
      "name": "Recuperação na Web - Natasha",
      "version": "0.3.2",
      "provenance": [],
      "collapsed_sections": [],
      "include_colab_link": true
    },
    "kernelspec": {
      "name": "python3",
      "display_name": "Python 3"
    }
  },
  "cells": [
    {
      "cell_type": "markdown",
      "metadata": {
        "id": "view-in-github",
        "colab_type": "text"
      },
      "source": [
        "<a href=\"https://colab.research.google.com/github/ntshrocha/MAB605-2019.1/blob/master/Recupera%C3%A7%C3%A3o_na_Web_Natasha.ipynb\" target=\"_parent\"><img src=\"https://colab.research.google.com/assets/colab-badge.svg\" alt=\"Open In Colab\"/></a>"
      ]
    },
    {
      "cell_type": "markdown",
      "metadata": {
        "id": "EGvhXFaNl45Y",
        "colab_type": "text"
      },
      "source": [
        "## Exercício 9 - Implementação do PageRank"
      ]
    },
    {
      "cell_type": "code",
      "metadata": {
        "id": "0W-np-R4l330",
        "colab_type": "code",
        "outputId": "21477b74-f6bd-4703-c01f-8abcb4181c66",
        "colab": {
          "base_uri": "https://localhost:8080/",
          "height": 34
        }
      },
      "source": [
        "def get_pagerank(graph, beta=0.8, threshold=10e-5):\n",
        "  T = len(graph)\n",
        "  PR = dict.fromkeys(graph, 1/T) # initialize PR with weight 1/T\n",
        "  oldPR = dict.copy(PR)\n",
        "  \n",
        "  converged = dict.fromkeys(graph, False) # tells if PR for a given page has converged\n",
        "  \n",
        "  while(any((c == False) for c in converged.values())):\n",
        "    for page in PR:\n",
        "      oldPR[page] = PR[page]\n",
        "      PR[page] = (1 - beta)/T\n",
        "      \n",
        "      for node in graph:\n",
        "        if page in graph[node]:\n",
        "          PR[page] += beta*PR[node]/len(graph[node])\n",
        "\n",
        "      converged[page] = abs(oldPR[page] - PR[page]) <= threshold\n",
        "    \n",
        "  return {k: '%.3f'%(v) for k, v in PR.items()} # truncate to 3 decimal places\n",
        "\n",
        "\n",
        "# EXEMPLO ######################################################################\n",
        "\n",
        "G = {\"A\": [\"B\", \"C\"],\n",
        "     \"B\": [\"C\"],\n",
        "     \"C\": [\"A\"],\n",
        "     \"D\": [\"C\"],\n",
        "    }\n",
        "\n",
        "get_pagerank(G)"
      ],
      "execution_count": 0,
      "outputs": [
        {
          "output_type": "execute_result",
          "data": {
            "text/plain": [
              "{'A': '0.363', 'B': '0.195', 'C': '0.392', 'D': '0.050'}"
            ]
          },
          "metadata": {
            "tags": []
          },
          "execution_count": 3
        }
      ]
    },
    {
      "cell_type": "markdown",
      "metadata": {
        "id": "v98rkXOESqAs",
        "colab_type": "text"
      },
      "source": [
        "## Exercício 10 - Implementação do HITS"
      ]
    },
    {
      "cell_type": "code",
      "metadata": {
        "id": "3es40cddid-O",
        "colab_type": "code",
        "outputId": "37f216aa-0db1-4d2b-f923-d5114a7af106",
        "colab": {
          "base_uri": "https://localhost:8080/",
          "height": 51
        }
      },
      "source": [
        "# TRANSPOSTA DE UM GRAFO #######################################################\n",
        "def transpose(graph):\n",
        "  T = {key: [] for key in graph.keys()}\n",
        "  \n",
        "  for node in graph:\n",
        "    for adj in graph[node]:\n",
        "      T[adj].append(node)\n",
        "      \n",
        "  return T\n",
        "\n",
        "# EXEMPLO ######################################################################\n",
        "print(G)\n",
        "transpose(G)"
      ],
      "execution_count": 0,
      "outputs": [
        {
          "output_type": "stream",
          "text": [
            "{'A': ['B', 'C'], 'B': ['C'], 'C': ['A'], 'D': ['C']}\n"
          ],
          "name": "stdout"
        },
        {
          "output_type": "execute_result",
          "data": {
            "text/plain": [
              "{'A': ['C'], 'B': ['A'], 'C': ['A', 'B', 'D'], 'D': []}"
            ]
          },
          "metadata": {
            "tags": []
          },
          "execution_count": 17
        }
      ]
    },
    {
      "cell_type": "code",
      "metadata": {
        "id": "SZKw0tTep98B",
        "colab_type": "code",
        "outputId": "20cb4974-0ccb-438d-b4dd-eb5372987465",
        "colab": {
          "base_uri": "https://localhost:8080/",
          "height": 34
        }
      },
      "source": [
        "# NORMALIZANDO UM VETOR ########################################################\n",
        "def normalize(my_dict):\n",
        "  key_min = min(my_dict.keys(), key=(lambda k: my_dict[k]))\n",
        "  key_max = max(my_dict.keys(), key=(lambda k: my_dict[k]))\n",
        "  \n",
        "  normalized = dict.fromkeys(my_dict)\n",
        "  \n",
        "  for key in my_dict:\n",
        "    normalized[key] = (my_dict[key] - my_dict[key_min]) / (my_dict[key_max] - my_dict[key_min])\n",
        "  \n",
        "  return normalized\n",
        "\n",
        "# EXEMPLO ######################################################################\n",
        "normalize({'A': 1, 'B': 2, 'C': 4, 'D': 0})"
      ],
      "execution_count": 0,
      "outputs": [
        {
          "output_type": "execute_result",
          "data": {
            "text/plain": [
              "{'A': 0.25, 'B': 0.5, 'C': 1.0, 'D': 0.0}"
            ]
          },
          "metadata": {
            "tags": []
          },
          "execution_count": 36
        }
      ]
    },
    {
      "cell_type": "code",
      "metadata": {
        "id": "v0EEOiXqgeIN",
        "colab_type": "code",
        "outputId": "09a7a5e2-f6fd-407c-9611-3ce4d710a200",
        "colab": {
          "base_uri": "https://localhost:8080/",
          "height": 51
        }
      },
      "source": [
        "# ALGORITMO HITS ###############################################################\n",
        "def get_hits(graph, k):\n",
        "  hub = dict.fromkeys(graph, 1)\n",
        "  auth = dict.fromkeys(graph, 1)\n",
        "  \n",
        "  graph_T = transpose(G)\n",
        "  \n",
        "  for i in range(0, k):\n",
        "    # Atualiza hubs\n",
        "    for node in graph:\n",
        "      hub[node] = 0\n",
        "      for adj in graph[node]:\n",
        "        hub[node] += auth[adj]\n",
        "    hub = normalize(hub)\n",
        "    \n",
        "    # Atualiza autoridades\n",
        "    for node in graph_T:\n",
        "      auth[node] = 0\n",
        "      for adj in graph_T[node]:\n",
        "        auth[node] += hub[adj]\n",
        "    auth = normalize(auth)\n",
        "    \n",
        "  return {\"hub\": hub, \"auth\": auth}\n",
        "\n",
        "\n",
        "# EXEMPLO ######################################################################\n",
        "\n",
        "G = {\"A\": [\"B\", \"C\"],\n",
        "     \"B\": [\"C\"],\n",
        "     \"C\": [\"A\"],\n",
        "     \"D\": [\"C\"],\n",
        "    }\n",
        "\n",
        "get_hits(G, 650)"
      ],
      "execution_count": 0,
      "outputs": [
        {
          "output_type": "execute_result",
          "data": {
            "text/plain": [
              "{'auth': {'A': 0.0, 'B': 0.4142135623730951, 'C': 1.0, 'D': 0.0},\n",
              " 'hub': {'A': 1.0, 'B': 0.7071067811865475, 'C': 0.0, 'D': 0.7071067811865475}}"
            ]
          },
          "metadata": {
            "tags": []
          },
          "execution_count": 33
        }
      ]
    }
  ]
}