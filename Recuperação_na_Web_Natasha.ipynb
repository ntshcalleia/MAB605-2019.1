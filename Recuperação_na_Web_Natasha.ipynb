{
  "nbformat": 4,
  "nbformat_minor": 0,
  "metadata": {
    "colab": {
      "name": "Recuperação na Web - Natasha",
      "version": "0.3.2",
      "provenance": [],
      "collapsed_sections": [],
      "include_colab_link": true
    },
    "kernelspec": {
      "name": "python3",
      "display_name": "Python 3"
    }
  },
  "cells": [
    {
      "cell_type": "markdown",
      "metadata": {
        "id": "view-in-github",
        "colab_type": "text"
      },
      "source": [
        "<a href=\"https://colab.research.google.com/github/ntshrocha/MAB605-2019.1/blob/master/Recupera%C3%A7%C3%A3o_na_Web_Natasha.ipynb\" target=\"_parent\"><img src=\"https://colab.research.google.com/assets/colab-badge.svg\" alt=\"Open In Colab\"/></a>"
      ]
    },
    {
      "cell_type": "markdown",
      "metadata": {
        "id": "EGvhXFaNl45Y",
        "colab_type": "text"
      },
      "source": [
        "## Exercício 9 - Implementação do PageRank"
      ]
    },
    {
      "cell_type": "code",
      "metadata": {
        "id": "0W-np-R4l330",
        "colab_type": "code",
        "outputId": "aa3bbbeb-9fcd-4eb0-d61b-94759fe5f65e",
        "colab": {
          "base_uri": "https://localhost:8080/",
          "height": 34
        }
      },
      "source": [
        "def get_pagerank(graph, beta=0.8, threshold=10e-5):\n",
        "  T = len(graph)\n",
        "  PR = dict.fromkeys(graph, 1/T) # initialize PR with weight 1/T\n",
        "  oldPR = dict.copy(PR)\n",
        "  \n",
        "  converged = dict.fromkeys(graph, False) # tells if PR for a given page has converged\n",
        "  \n",
        "  while(any((c == False) for c in converged.values())):\n",
        "    for page in PR:\n",
        "      oldPR[page] = PR[page]\n",
        "      PR[page] = (1 - beta)/T\n",
        "      \n",
        "      for node in graph:\n",
        "        if page in graph[node]:\n",
        "          PR[page] += beta*PR[node]/len(graph[node])\n",
        "\n",
        "      converged[page] = abs(oldPR[page] - PR[page]) <= threshold\n",
        "    \n",
        "  return {k: '%.3f'%(v) for k, v in PR.items()} # truncate to 3 decimal places\n",
        "\n",
        "\n",
        "# EXEMPLO ######################################################################\n",
        "\n",
        "G = {\"A\": [\"B\", \"C\"],\n",
        "     \"B\": [\"C\"],\n",
        "     \"C\": [\"A\"],\n",
        "     \"D\": [\"C\"],\n",
        "    }\n",
        "\n",
        "get_pagerank(G)"
      ],
      "execution_count": 0,
      "outputs": [
        {
          "output_type": "execute_result",
          "data": {
            "text/plain": [
              "{'A': '0.363', 'B': '0.195', 'C': '0.392', 'D': '0.050'}"
            ]
          },
          "metadata": {
            "tags": []
          },
          "execution_count": 44
        }
      ]
    }
  ]
}